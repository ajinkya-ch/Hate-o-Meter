{
 "cells": [
  {
   "cell_type": "markdown",
   "metadata": {},
   "source": [
    "### Text Classification with ScikitLearn,SpaCy and Interpretation of ML Model with ELi5\n",
    "   + Text Preprocessing with SpaCy\n",
    "   + Classifying Text With Sklearn\n",
    "   + Interpreting Model with Eli5\n",
    "    "
   ]
  },
  {
   "cell_type": "code",
   "execution_count": 389,
   "metadata": {},
   "outputs": [
    {
     "name": "stderr",
     "output_type": "stream",
     "text": [
      "/home/akshay/anaconda3/lib/python3.6/site-packages/sklearn/cross_validation.py:44: DeprecationWarning: This module was deprecated in version 0.18 in favor of the model_selection module into which all the refactored classes and functions are moved. Also note that the interface of the new CV iterators are different from that of this module. This module will be removed in 0.20.\n",
      "  \"This module will be removed in 0.20.\", DeprecationWarning)\n",
      "/home/akshay/anaconda3/lib/python3.6/site-packages/sklearn/grid_search.py:43: DeprecationWarning: This module was deprecated in version 0.18 in favor of the model_selection module into which all the refactored classes and functions are moved. This module will be removed in 0.20.\n",
      "  DeprecationWarning)\n"
     ]
    }
   ],
   "source": [
    "# load EDA Pkgs\n",
    "import pandas as pd\n",
    "import numpy as np\n",
    "# Load libraries\n",
    "from sklearn.model_selection import GridSearchCV\n",
    "import seaborn as sns\n",
    "import numpy as np # linear algebra\n",
    "import pandas as pd # data processing, CSV file I/O (e.g. pd.read_csv)\n",
    "import matplotlib.pyplot as plt\n",
    "import seaborn as sns\n",
    "import matplotlib\n",
    "%matplotlib inline\n",
    "from sklearn.metrics import accuracy_score\n",
    "from sklearn.model_selection import train_test_split\n",
    "from sklearn.metrics import classification_report,confusion_matrix\n",
    "from sklearn import linear_model\n",
    "from sklearn.linear_model import LogisticRegression\n",
    "from sklearn.svm import SVC, LinearSVC\n",
    "from sklearn.ensemble import RandomForestClassifier, AdaBoostClassifier, BaggingClassifier\n",
    "from sklearn.neighbors import KNeighborsClassifier\n",
    "from sklearn.naive_bayes import GaussianNB\n",
    "from sklearn.tree import DecisionTreeClassifier\n",
    "from sklearn import svm\n",
    "from sklearn.model_selection import KFold\n",
    "import pandas\n",
    "from sklearn.model_selection import train_test_split\n",
    "import numpy\n",
    "import matplotlib.pyplot as plt\n",
    "from pandas.plotting import scatter_matrix\n",
    "from sklearn.preprocessing import StandardScaler\n",
    "from sklearn.preprocessing import MinMaxScaler\n",
    "from sklearn.preprocessing import Imputer\n",
    "from sklearn import model_selection\n",
    "from sklearn.metrics import classification_report\n",
    "from sklearn.metrics import confusion_matrix\n",
    "from sklearn.metrics import accuracy_score\n",
    "from sklearn.pipeline import Pipeline\n",
    "from sklearn.grid_search import GridSearchCV\n",
    "from sklearn.linear_model import LogisticRegression\n",
    "from sklearn.tree import DecisionTreeClassifier\n",
    "from sklearn.neighbors import KNeighborsClassifier\n",
    "from sklearn.neighbors import KNeighborsRegressor\n",
    "from sklearn.discriminant_analysis import LinearDiscriminantAnalysis\n",
    "from sklearn.naive_bayes import GaussianNB\n",
    "from sklearn.svm import SVC\n",
    "from sklearn.ensemble import AdaBoostClassifier\n",
    "from sklearn.ensemble import GradientBoostingClassifier\n",
    "from sklearn.ensemble import RandomForestClassifier\n",
    "from sklearn.ensemble import ExtraTreesClassifier"
   ]
  },
  {
   "cell_type": "code",
   "execution_count": 390,
   "metadata": {},
   "outputs": [],
   "source": [
    "# Load NLP pkgs\n",
    "import spacy"
   ]
  },
  {
   "cell_type": "code",
   "execution_count": 391,
   "metadata": {},
   "outputs": [],
   "source": [
    "from spacy.lang.en.stop_words import STOP_WORDS\n",
    "nlp = spacy.load('en_core_web_sm')"
   ]
  },
  {
   "cell_type": "code",
   "execution_count": 392,
   "metadata": {},
   "outputs": [],
   "source": [
    "# Use the punctuations of string module\n",
    "import string\n",
    "punctuations = string.punctuation"
   ]
  },
  {
   "cell_type": "code",
   "execution_count": 393,
   "metadata": {},
   "outputs": [],
   "source": [
    "# Creating a Spacy Parser\n",
    "from spacy.lang.en import English\n",
    "parser = English()"
   ]
  },
  {
   "cell_type": "code",
   "execution_count": 249,
   "metadata": {},
   "outputs": [],
   "source": [
    "# Build a list of stopwords to use to filter\n",
    "stopwords = list(STOP_WORDS)"
   ]
  },
  {
   "cell_type": "code",
   "execution_count": 250,
   "metadata": {
    "scrolled": true
   },
   "outputs": [
    {
     "name": "stdout",
     "output_type": "stream",
     "text": [
      "['except', 'hundred', 'never', 'did', 'down', 'upon', 'might', 'can', 'neither', 'in', 'per', 'this', 'always', 'those', 'whither', 'still', 'fifty', 'thus', 'them', 'before', 'seeming', 'serious', 'is', 'or', 'many', 'below', 'two', 'anyway', 'however', 'thru', 'anywhere', 'amount', 'toward', 'became', 'no', 'thereafter', 'quite', 'whereupon', 'me', 'show', 'not', 'nine', 'beyond', 'six', 'thereupon', 'being', 'less', 'see', 'the', 'therein', 'each', 'are', 'has', 'using', 'whereafter', 'with', 'few', 'others', '‘d', 'everything', 'our', 'front', 'anything', 'against', 'at', 'becomes', 'itself', 'hereupon', 'on', 'former', 'seem', '’ll', 'whereas', 'bottom', 'off', 'everywhere', 'call', 'next', 'first', 'for', 'third', '’s', 'even', 'together', 'mine', 'by', 'most', 'take', 'four', '‘ve', 'since', 'then', 'about', 'someone', 'all', 'out', 'be', 'your', 'though', 'to', 'yet', 'whose', 'why', 'become', 'regarding', 'that', 'myself', 'he', 'full', 'across', 'top', '’re', 'an', 'ca', 'own', 'moreover', 'n‘t', 'now', 'else', '’m', 'otherwise', 'they', 'these', 'and', 'last', 'only', 'we', \"n't\", 'rather', 'whom', 'somehow', 'something', 'she', 'anyhow', 'of', 'whereby', 'towards', 'n’t', 'wherein', '’d', 'beside', 'been', 'how', 'through', 'least', 'eleven', \"'ve\", 'back', 'five', 'latter', 'thereby', 'because', 'where', 'once', 'his', 'done', 'ourselves', 'who', 'via', 'mostly', 'some', 'which', 'whoever', 'whole', 'will', \"'re\", 'somewhere', 'therefore', 'although', 'between', \"'m\", 'nowhere', 'along', 'himself', 'during', 'cannot', 'keep', 'above', 'should', 'yourselves', 'hers', 'him', 'very', 'would', 'one', 'unless', 'such', 'sometimes', 'alone', 'do', 'could', 'into', 'yours', 'afterwards', 'other', 'give', 'eight', 'any', 'due', 'were', 'sometime', 'without', 'among', 'becoming', 'meanwhile', 'a', 'twelve', 'i', 'its', 'here', 'none', 'if', 'make', 'there', 'three', 'around', 'wherever', 'may', 'either', 'herself', \"'d\", 'ours', 'when', 'throughout', 'whether', 'onto', 'sixty', 'under', 'you', 'twenty', '‘m', 'noone', 'over', 'does', 'until', 'empty', 'as', 'have', 'really', 'formerly', 'seemed', 'was', 'behind', 'indeed', 'name', 'within', 'nevertheless', 'another', 'also', 'get', 'whence', 'doing', 'nor', 'move', 'well', 'hence', 'various', 'yourself', 're', 'made', 'thence', '‘re', 'whatever', 'but', 'herein', 'hereby', 'namely', 'ten', 'whenever', 'what', \"'ll\", 'enough', '‘s', 'seems', 'themselves', 'after', 'latterly', 'so', 'us', 'often', 'had', 'more', \"'s\", 'nothing', 'hereafter', '‘ll', 'am', 'amongst', 'fifteen', 'further', 'forty', 'perhaps', 'every', 'up', 'much', 'part', 'again', 'same', 'go', 'my', 'anyone', 'say', 'several', 'both', 'than', 'too', 'just', 'already', 'while', '’ve', 'beforehand', 'it', 'ever', 'put', 'almost', 'everyone', 'her', 'please', 'elsewhere', 'their', 'side', 'must', 'nobody', 'besides', 'used', 'from']\n"
     ]
    }
   ],
   "source": [
    "print(stopwords)"
   ]
  },
  {
   "cell_type": "code",
   "execution_count": 251,
   "metadata": {},
   "outputs": [],
   "source": [
    "def spacy_tokenizer(sentence):\n",
    "    mytokens = parser(sentence)\n",
    "    mytokens = [ word.lemma_.lower().strip() if word.lemma_ != \"-PRON-\" else word.lower_ for word in mytokens ]\n",
    "    mytokens = [ word for word in mytokens if word not in stopwords and word not in punctuations ]\n",
    "    return mytokens"
   ]
  },
  {
   "cell_type": "code",
   "execution_count": 252,
   "metadata": {},
   "outputs": [],
   "source": [
    "ex1 = \"He was walking with the walker in the Wall he may had sat and run with the runner\""
   ]
  },
  {
   "cell_type": "code",
   "execution_count": 511,
   "metadata": {},
   "outputs": [
    {
     "data": {
      "text/plain": [
       "['walking', 'walker', 'wall', 'sat', 'run', 'runner']"
      ]
     },
     "execution_count": 511,
     "metadata": {},
     "output_type": "execute_result"
    }
   ],
   "source": [
    "spacy_tokenizer(ex1)"
   ]
  },
  {
   "cell_type": "code",
   "execution_count": 394,
   "metadata": {},
   "outputs": [],
   "source": [
    "# Load ML Pkgs\n",
    "# ML Packages\n",
    "from sklearn.feature_extraction.text import CountVectorizer,TfidfVectorizer\n",
    "from sklearn.metrics import accuracy_score \n",
    "from sklearn.base import TransformerMixin \n",
    "from sklearn.pipeline import Pipeline\n",
    "from sklearn.svm import LinearSVC\n",
    "from sklearn.svm import SVC"
   ]
  },
  {
   "cell_type": "code",
   "execution_count": 395,
   "metadata": {},
   "outputs": [],
   "source": [
    "# Load Interpretation Pkgs\n",
    "import eli5"
   ]
  },
  {
   "cell_type": "code",
   "execution_count": 396,
   "metadata": {},
   "outputs": [],
   "source": [
    "# Load dataset\n",
    "df = pd.read_csv(\"newhateegs.csv\")"
   ]
  },
  {
   "cell_type": "code",
   "execution_count": 397,
   "metadata": {},
   "outputs": [
    {
     "data": {
      "text/html": [
       "<div>\n",
       "<style scoped>\n",
       "    .dataframe tbody tr th:only-of-type {\n",
       "        vertical-align: middle;\n",
       "    }\n",
       "\n",
       "    .dataframe tbody tr th {\n",
       "        vertical-align: top;\n",
       "    }\n",
       "\n",
       "    .dataframe thead th {\n",
       "        text-align: right;\n",
       "    }\n",
       "</style>\n",
       "<table border=\"1\" class=\"dataframe\">\n",
       "  <thead>\n",
       "    <tr style=\"text-align: right;\">\n",
       "      <th></th>\n",
       "      <th>Message</th>\n",
       "      <th>Target</th>\n",
       "    </tr>\n",
       "  </thead>\n",
       "  <tbody>\n",
       "    <tr>\n",
       "      <th>0</th>\n",
       "      <td>Violent Buddhist extremists are targeting Musl...</td>\n",
       "      <td>1</td>\n",
       "    </tr>\n",
       "    <tr>\n",
       "      <th>1</th>\n",
       "      <td>Sorry Buddhists, Your Religion Sucks Too.</td>\n",
       "      <td>1</td>\n",
       "    </tr>\n",
       "    <tr>\n",
       "      <th>2</th>\n",
       "      <td>The Quran: A book that incites genocide, war, ...</td>\n",
       "      <td>1</td>\n",
       "    </tr>\n",
       "    <tr>\n",
       "      <th>3</th>\n",
       "      <td>the only people involved in Islam are prisoner...</td>\n",
       "      <td>1</td>\n",
       "    </tr>\n",
       "    <tr>\n",
       "      <th>4</th>\n",
       "      <td>Islam out of Britain – Protect the British Peo...</td>\n",
       "      <td>1</td>\n",
       "    </tr>\n",
       "  </tbody>\n",
       "</table>\n",
       "</div>"
      ],
      "text/plain": [
       "                                             Message  Target\n",
       "0  Violent Buddhist extremists are targeting Musl...       1\n",
       "1          Sorry Buddhists, Your Religion Sucks Too.       1\n",
       "2  The Quran: A book that incites genocide, war, ...       1\n",
       "3  the only people involved in Islam are prisoner...       1\n",
       "4  Islam out of Britain – Protect the British Peo...       1"
      ]
     },
     "execution_count": 397,
     "metadata": {},
     "output_type": "execute_result"
    }
   ],
   "source": [
    "df.head()"
   ]
  },
  {
   "cell_type": "code",
   "execution_count": 398,
   "metadata": {},
   "outputs": [
    {
     "data": {
      "text/plain": [
       "(354, 2)"
      ]
     },
     "execution_count": 398,
     "metadata": {},
     "output_type": "execute_result"
    }
   ],
   "source": [
    "df.shape"
   ]
  },
  {
   "cell_type": "code",
   "execution_count": 430,
   "metadata": {},
   "outputs": [],
   "source": [
    "models = []\n",
    "models.append(('LR', LogisticRegression()))\n",
    "# models.append(('LDA', LinearDiscriminantAnalysis()))\n",
    "models.append(('KNN', KNeighborsClassifier()))\n",
    "models.append(('CART', DecisionTreeClassifier()))\n",
    "# models.append(('NB', GaussianNB()))\n",
    "models.append(('SVM', SVC()))\n",
    "results = []\n",
    "names=[]"
   ]
  },
  {
   "cell_type": "code",
   "execution_count": 431,
   "metadata": {},
   "outputs": [
    {
     "data": {
      "text/plain": [
       "Index(['Message', 'Target'], dtype='object')"
      ]
     },
     "execution_count": 431,
     "metadata": {},
     "output_type": "execute_result"
    }
   ],
   "source": [
    "df.columns"
   ]
  },
  {
   "cell_type": "code",
   "execution_count": 432,
   "metadata": {},
   "outputs": [],
   "source": [
    "#Custom transformer using spaCy \n",
    "class predictors(TransformerMixin):\n",
    "    def transform(self, X, **transform_params):\n",
    "        return [clean_text(text) for text in X]\n",
    "    def fit(self, X, y=None, **fit_params):\n",
    "        return self\n",
    "    def get_params(self, deep=True):\n",
    "        return {}"
   ]
  },
  {
   "cell_type": "code",
   "execution_count": 433,
   "metadata": {},
   "outputs": [],
   "source": [
    "# Basic function to clean the text \n",
    "def clean_text(text):     \n",
    "    return text.strip().lower()"
   ]
  },
  {
   "cell_type": "code",
   "execution_count": 434,
   "metadata": {},
   "outputs": [],
   "source": [
    "# Vectorization\n",
    "vectorizer = CountVectorizer(tokenizer = spacy_tokenizer, ngram_range=(1,1)) \n",
    "# classifier = LinearSVC()\n",
    "classifier = SVC(C=10, gamma=0.01, probability=True)"
   ]
  },
  {
   "cell_type": "code",
   "execution_count": 435,
   "metadata": {},
   "outputs": [],
   "source": [
    "# Using Tfidf\n",
    "tfvectorizer = TfidfVectorizer(tokenizer = spacy_tokenizer)"
   ]
  },
  {
   "cell_type": "code",
   "execution_count": 436,
   "metadata": {},
   "outputs": [],
   "source": [
    "# Splitting Data Set\n",
    "from sklearn.model_selection import train_test_split"
   ]
  },
  {
   "cell_type": "code",
   "execution_count": 437,
   "metadata": {},
   "outputs": [],
   "source": [
    "# Features and Labels\n",
    "X = df['Message']\n",
    "ylabels = df['Target']"
   ]
  },
  {
   "cell_type": "code",
   "execution_count": 438,
   "metadata": {},
   "outputs": [],
   "source": [
    "X_train, X_test, y_train, y_test = train_test_split(X, ylabels, test_size=0.3, random_state=42)"
   ]
  },
  {
   "cell_type": "code",
   "execution_count": 454,
   "metadata": {},
   "outputs": [],
   "source": [
    "X_train\n",
    "\n",
    "vectorizer_1 = CountVectorizer()\n",
    "X_1 = vectorizer_1.fit_transform(X_train)\n",
    "X_2=vectorizer_1.fit_transform(X_test)"
   ]
  },
  {
   "cell_type": "code",
   "execution_count": 447,
   "metadata": {},
   "outputs": [
    {
     "data": {
      "text/plain": [
       "(247,)"
      ]
     },
     "execution_count": 447,
     "metadata": {},
     "output_type": "execute_result"
    }
   ],
   "source": [
    "X_train.shape"
   ]
  },
  {
   "cell_type": "code",
   "execution_count": 466,
   "metadata": {},
   "outputs": [
    {
     "name": "stdout",
     "output_type": "stream",
     "text": [
      "Accuracy Score: 0.7850467289719626 LogisticRegression(C=1.0, class_weight=None, dual=False, fit_intercept=True,\n",
      "          intercept_scaling=1, max_iter=100, multi_class='ovr', n_jobs=1,\n",
      "          penalty='l2', random_state=None, solver='liblinear', tol=0.0001,\n",
      "          verbose=0, warm_start=False)\n",
      "Accuracy Score: 0.616822429906542 KNeighborsClassifier(algorithm='auto', leaf_size=30, metric='minkowski',\n",
      "           metric_params=None, n_jobs=1, n_neighbors=5, p=2,\n",
      "           weights='uniform')\n",
      "Accuracy Score: 0.6542056074766355 DecisionTreeClassifier(class_weight=None, criterion='gini', max_depth=None,\n",
      "            max_features=None, max_leaf_nodes=None,\n",
      "            min_impurity_split=1e-07, min_samples_leaf=1,\n",
      "            min_samples_split=2, min_weight_fraction_leaf=0.0,\n",
      "            presort=False, random_state=None, splitter='best')\n",
      "Accuracy Score: 0.616822429906542 SVC(C=1.0, cache_size=200, class_weight=None, coef0=0.0,\n",
      "  decision_function_shape=None, degree=3, gamma='auto', kernel='rbf',\n",
      "  max_iter=-1, probability=False, random_state=None, shrinking=True,\n",
      "  tol=0.001, verbose=False)\n"
     ]
    }
   ],
   "source": [
    "# Create the  pipeline to clean, tokenize, vectorize, and classify \n",
    "for name, model in models:\n",
    "    pipe = Pipeline([(\"cleaner\", predictors()),\n",
    "                 ('vectorizer', vectorizer),\n",
    "                 ('classifier',model)])\n",
    "    pipe.fit(X_train,y_train)  \n",
    "    print(\"Accuracy Score:\",pipe.score(X_test, y_test),model)\n",
    "# #     kfold = model_selection.KFold(n_splits=5, shuffle=True, random_state=5)\n",
    "# #     cv_results = model_selection.cross_val_score(pipe, X_train, y_train, cv=kfold, scoring='accuracy')\n",
    "#     results.append(pipe.score(X_test, y_test))\n",
    "#     names.append(name)\n",
    "#     msg = \"%s: %f (%f)\" % (name, cv_results.mean()*100, cv_results.std()*100)\n",
    "#     print(msg)\n"
   ]
  },
  {
   "cell_type": "code",
   "execution_count": 449,
   "metadata": {},
   "outputs": [
    {
     "data": {
      "text/plain": [
       "Pipeline(steps=[('cleaner', <__main__.predictors object at 0x7f9766299080>), ('vectorizer', CountVectorizer(analyzer='word', binary=False, decode_error='strict',\n",
       "        dtype=<class 'numpy.int64'>, encoding='utf-8', input='content',\n",
       "        lowercase=True, max_df=1.0, max_features=None, min_df=1,\n",
       "        ng...,\n",
       "  max_iter=-1, probability=False, random_state=None, shrinking=True,\n",
       "  tol=0.001, verbose=False))])"
      ]
     },
     "execution_count": 449,
     "metadata": {},
     "output_type": "execute_result"
    }
   ],
   "source": [
    "# Fit our data\n",
    "pipe.fit(X_train,y_train)"
   ]
  },
  {
   "cell_type": "code",
   "execution_count": 485,
   "metadata": {},
   "outputs": [
    {
     "name": "stdout",
     "output_type": "stream",
     "text": [
      "Training Score: 0.9878542510121457\n",
      "Testing Score: 0.7383177570093458\n",
      "Accuracy: 0.7383177570093458\n",
      "Confusion Matrix: \n",
      " [[18 23]\n",
      " [ 5 61]]\n"
     ]
    }
   ],
   "source": [
    "clf = SVC(C=10,gamma=0.1)\n",
    "pipesvc = Pipeline([(\"cleaner\", predictors()),\n",
    "                 ('vectorizer', vectorizer),\n",
    "                 ('classifier',clf)])\n",
    "pipesvc.fit(X_train,y_train)\n",
    "svmpredicted=pipesvc.predict(X_test)\n",
    "\n",
    "print('Training Score:',pipesvc.score(X_train, y_train))\n",
    "print('Testing Score:',pipesvc.score(X_test, y_test))\n",
    "print('Accuracy:',accuracy_score(y_test,svmpredicted))\n",
    "print('Confusion Matrix: \\n', confusion_matrix(y_test,svmpredicted))"
   ]
  },
  {
   "cell_type": "code",
   "execution_count": 471,
   "metadata": {},
   "outputs": [
    {
     "data": {
      "image/png": "[encoded data removed]",
      "text/plain": [
       "<matplotlib.figure.Figure at 0x7f9748f20a20>"
      ]
     },
     "metadata": {
      "needs_background": "light"
     },
     "output_type": "display_data"
    }
   ],
   "source": [
    "sns.heatmap(confusion_matrix(y_test,svmpredicted),annot=True,cmap='YlGn')\n",
    "plt.title(\"SVM \")\n",
    "plt.ylabel(\"True LABEL\")\n",
    "plt.xlabel(\"PREDICTED LABEL\")\n",
    "plt.show()"
   ]
  },
  {
   "cell_type": "code",
   "execution_count": 487,
   "metadata": {},
   "outputs": [
    {
     "name": "stdout",
     "output_type": "stream",
     "text": [
      "Training Score: 0.7692307692307693\n",
      "Testing Score: 0.616822429906542\n",
      "Accuracy: 0.616822429906542\n",
      "Confusion Matrix: \n",
      " [[19 22]\n",
      " [19 47]]\n"
     ]
    }
   ],
   "source": [
    "kkk=KNeighborsClassifier()\n",
    "pipeneighnour = Pipeline([(\"cleaner\", predictors()),\n",
    "                 ('vectorizer', vectorizer),\n",
    "                 ('classifier',kkk)])\n",
    "pipeneighnour.fit(X_train,y_train)\n",
    "# kkk.fit(X_train,Y_train)\n",
    "p=pipeneighnour.predict(X_test)\n",
    "print('Training Score:',pipeneighnour.score(X_train, y_train))\n",
    "print('Testing Score:',pipeneighnour.score(X_test, y_test))\n",
    "print('Accuracy:',accuracy_score(y_test,p))\n",
    "print('Confusion Matrix: \\n', confusion_matrix(y_test,p))\n"
   ]
  },
  {
   "cell_type": "code",
   "execution_count": 488,
   "metadata": {},
   "outputs": [
    {
     "data": {
      "image/png": "[encoded data removed]",
      "text/plain": [
       "<matplotlib.figure.Figure at 0x7f9765d929e8>"
      ]
     },
     "metadata": {
      "needs_background": "light"
     },
     "output_type": "display_data"
    }
   ],
   "source": [
    "sns.heatmap(confusion_matrix(y_test,p),annot=True,cmap='YlGn')\n",
    "plt.title(\"KNN\")\n",
    "plt.ylabel(\"True LABEL\")\n",
    "plt.xlabel(\"PREDICTED LABEL\")\n",
    "plt.show()"
   ]
  },
  {
   "cell_type": "code",
   "execution_count": 489,
   "metadata": {},
   "outputs": [
    {
     "name": "stdout",
     "output_type": "stream",
     "text": [
      "Training Score: 0.979757085020243\n",
      "Testing Score: 0.7850467289719626\n",
      "Accuracy: 0.7850467289719626\n",
      "Confusion Matrix: \n",
      " [[22 19]\n",
      " [ 4 62]]\n"
     ]
    }
   ],
   "source": [
    "logistic=LogisticRegression()\n",
    "pipelog = Pipeline([(\"cleaner\", predictors()),\n",
    "                 ('vectorizer', vectorizer),\n",
    "                 ('classifier',logistic)])\n",
    "pipelog.fit(X_train,y_train)\n",
    "# kkk.fit(X_train,Y_train)\n",
    "# p=pipe.predict(X_test)\n",
    "logispredicted=pipelog.predict(X_test)\n",
    "print('Training Score:',pipelog.score(X_train, y_train))\n",
    "print('Testing Score:',pipelog.score(X_test, y_test))\n",
    "print('Accuracy:',accuracy_score(y_test,logispredicted))\n",
    "print('Confusion Matrix: \\n', confusion_matrix(y_test,logispredicted))"
   ]
  },
  {
   "cell_type": "code",
   "execution_count": 490,
   "metadata": {},
   "outputs": [
    {
     "data": {
      "image/png": "[encoded data removed]",
      "text/plain": [
       "<matplotlib.figure.Figure at 0x7f9748c5a7b8>"
      ]
     },
     "metadata": {
      "needs_background": "light"
     },
     "output_type": "display_data"
    }
   ],
   "source": [
    "sns.heatmap(confusion_matrix(y_test,logispredicted),annot=True,cmap='YlGn')\n",
    "plt.title(\"LOGISTIC REG\")\n",
    "plt.ylabel(\"True LABEL\")\n",
    "plt.xlabel(\"PREDICTED LABEL\")\n",
    "plt.show()"
   ]
  },
  {
   "cell_type": "code",
   "execution_count": 492,
   "metadata": {},
   "outputs": [
    {
     "name": "stdout",
     "output_type": "stream",
     "text": [
      "Training Score: 0.9878542510121457\n",
      "Testing Score: 0.6822429906542056\n",
      "Accuracy: 0.6822429906542056\n",
      "Confusion Matrix: \n",
      " [[10 31]\n",
      " [ 3 63]]\n"
     ]
    }
   ],
   "source": [
    "randomforest = RandomForestClassifier(n_estimators=100)\n",
    "# randomforest.fit(X_train, y_train)\n",
    "#Predict Output\n",
    "piperandom = Pipeline([(\"cleaner\", predictors()),\n",
    "                 ('vectorizer', vectorizer),\n",
    "                 ('classifier',randomforest)])\n",
    "piperandom.fit(X_train,y_train)\n",
    "predicted = piperandom.predict(X_test)\n",
    "\n",
    "print('Training Score:',piperandom.score(X_train, y_train))\n",
    "print('Testing Score:',piperandom.score(X_test, y_test))\n",
    "print('Accuracy:',accuracy_score(y_test,predicted))\n",
    "print('Confusion Matrix: \\n', confusion_matrix(y_test,predicted))\n"
   ]
  },
  {
   "cell_type": "code",
   "execution_count": 493,
   "metadata": {},
   "outputs": [
    {
     "data": {
      "image/png": "[encoded data removed]",
      "text/plain": [
       "<matplotlib.figure.Figure at 0x7f9765cf65c0>"
      ]
     },
     "metadata": {
      "needs_background": "light"
     },
     "output_type": "display_data"
    }
   ],
   "source": [
    "sns.heatmap(confusion_matrix(y_test,predicted),annot=True,cmap='YlGn')\n",
    "plt.title(\"RANDOM FOREST \")\n",
    "plt.ylabel(\"True LABEL\")\n",
    "plt.xlabel(\"PREDICTED LABEL\")\n",
    "plt.show()"
   ]
  },
  {
   "cell_type": "code",
   "execution_count": 494,
   "metadata": {},
   "outputs": [
    {
     "data": {
      "text/html": [
       "<div>\n",
       "<style scoped>\n",
       "    .dataframe tbody tr th:only-of-type {\n",
       "        vertical-align: middle;\n",
       "    }\n",
       "\n",
       "    .dataframe tbody tr th {\n",
       "        vertical-align: top;\n",
       "    }\n",
       "\n",
       "    .dataframe thead th {\n",
       "        text-align: right;\n",
       "    }\n",
       "</style>\n",
       "<table border=\"1\" class=\"dataframe\">\n",
       "  <thead>\n",
       "    <tr style=\"text-align: right;\">\n",
       "      <th></th>\n",
       "      <th>Model</th>\n",
       "      <th>Score</th>\n",
       "      <th>Test Score</th>\n",
       "    </tr>\n",
       "  </thead>\n",
       "  <tbody>\n",
       "    <tr>\n",
       "      <th>0</th>\n",
       "      <td>Logistic Regression</td>\n",
       "      <td>0.979757</td>\n",
       "      <td>0.785047</td>\n",
       "    </tr>\n",
       "    <tr>\n",
       "      <th>1</th>\n",
       "      <td>SVM</td>\n",
       "      <td>0.987854</td>\n",
       "      <td>0.738318</td>\n",
       "    </tr>\n",
       "    <tr>\n",
       "      <th>2</th>\n",
       "      <td>Random Forest</td>\n",
       "      <td>0.987854</td>\n",
       "      <td>0.682243</td>\n",
       "    </tr>\n",
       "    <tr>\n",
       "      <th>3</th>\n",
       "      <td>KNN</td>\n",
       "      <td>0.769231</td>\n",
       "      <td>0.616822</td>\n",
       "    </tr>\n",
       "  </tbody>\n",
       "</table>\n",
       "</div>"
      ],
      "text/plain": [
       "                 Model     Score  Test Score\n",
       "0  Logistic Regression  0.979757    0.785047\n",
       "1                  SVM  0.987854    0.738318\n",
       "2        Random Forest  0.987854    0.682243\n",
       "3                  KNN  0.769231    0.616822"
      ]
     },
     "execution_count": 494,
     "metadata": {},
     "output_type": "execute_result"
    }
   ],
   "source": [
    "models = pd.DataFrame({\n",
    "    'Model': [ 'Logistic Regression', 'SVM','Random Forest','KNN'],\n",
    "    'Score': [ pipelog.score(X_train, y_train), pipesvc.score(X_train, y_train), piperandom.score(X_train, y_train),pipeneighnour.score(X_train, y_train)],\n",
    "    'Test Score': [ pipelog.score(X_test, y_test), pipesvc.score(X_test, y_test), piperandom.score(X_test, y_test),pipeneighnour.score(X_test, y_test)]})\n",
    "models.sort_values(by='Test Score', ascending=False)\n"
   ]
  },
  {
   "cell_type": "code",
   "execution_count": 347,
   "metadata": {},
   "outputs": [
    {
     "data": {
      "text/plain": [
       "(107,)"
      ]
     },
     "execution_count": 347,
     "metadata": {},
     "output_type": "execute_result"
    }
   ],
   "source": [
    "X_test.shape"
   ]
  },
  {
   "cell_type": "code",
   "execution_count": null,
   "metadata": {},
   "outputs": [],
   "source": []
  },
  {
   "cell_type": "code",
   "execution_count": 348,
   "metadata": {},
   "outputs": [
    {
     "data": {
      "text/plain": [
       "\"Appallachian Whites are poorer than negroes and they don't chimp out.\""
      ]
     },
     "execution_count": 348,
     "metadata": {},
     "output_type": "execute_result"
    }
   ],
   "source": [
    "X_test.values[1]"
   ]
  },
  {
   "cell_type": "code",
   "execution_count": 495,
   "metadata": {},
   "outputs": [
    {
     "data": {
      "text/plain": [
       "array([0, 1, 1, 1, 1, 1, 1, 1, 1, 1, 1, 0, 1, 0, 1, 0, 1, 1, 0, 0, 1, 0,\n",
       "       1, 1, 1, 1, 1, 1, 1, 1, 0, 1, 0, 1, 1, 1, 1, 1, 1, 1, 1, 1, 1, 0,\n",
       "       1, 1, 1, 0, 1, 0, 1, 1, 0, 1, 0, 1, 1, 1, 1, 0, 1, 1, 1, 1, 1, 1,\n",
       "       1, 1, 1, 1, 1, 1, 0, 0, 1, 0, 0, 1, 1, 1, 1, 1, 1, 1, 1, 0, 0, 1,\n",
       "       1, 0, 1, 1, 0, 1, 1, 1, 0, 1, 1, 1, 0, 1, 1, 1, 0, 1, 1])"
      ]
     },
     "execution_count": 495,
     "metadata": {},
     "output_type": "execute_result"
    }
   ],
   "source": [
    "# Predicting with a test dataset\n",
    "\n",
    "pipelog.predict(X_test)"
   ]
  },
  {
   "cell_type": "code",
   "execution_count": null,
   "metadata": {},
   "outputs": [],
   "source": []
  },
  {
   "cell_type": "code",
   "execution_count": 497,
   "metadata": {},
   "outputs": [
    {
     "name": "stdout",
     "output_type": "stream",
     "text": [
      "Accuracy Score: 0.7850467289719626\n"
     ]
    }
   ],
   "source": [
    "print(\"Accuracy Score:\",pipelog.score(X_test, y_test))"
   ]
  },
  {
   "cell_type": "code",
   "execution_count": 498,
   "metadata": {},
   "outputs": [
    {
     "name": "stdout",
     "output_type": "stream",
     "text": [
      "This hole in the wall has great Mexican street tacos, and friendly staff. Prediction=> 0\n",
      "Appallachian Whites are poorer than negroes and they don't chimp out. Prediction=> 1\n",
      "Charles Darwin's personal pet tortoise didn't die until recently. Prediction=> 1\n",
      " I am going to teach my children to not to associate with transgenders because if you lay down with dogs you get with fleeps. Prediction=> 0\n",
      "You black slave, pick up the cotton. Prediction=> 0\n",
      "We Chinese people are brave and industrious. Prediction=> 0\n",
      "They have been announcing on the microphone that if the Hindus leave their house, they shall kill them. Prediction=> 1\n",
      "You will be a slave forever, you nigger. Prediction=> 0\n",
      "I hope you get epilepsy. Prediction=> 1\n",
      "For I conclude that the enemy is not lipstick, but guilt itself; we deserve lipstick, if we want it, AND free speech; we deserve to be sexual AND serious or whatever we please.  Prediction=> 0\n",
      "Kill Palestinians to get closer to God. Prediction=> 0\n",
      "Muslims are terrorists, they will cause damage and destroy life. Prediction=> 1\n",
      "You are worse than sujit Prediction=> 1\n",
      "Many things make it difficult for women to reach the top in US business. Prediction=> 1\n",
      "Men are the dominant gender. Prediction=> 0\n",
      "No woman should be told she can't make decisions about her own body. When women's rights are under attack, we fight back. Prediction=> 1\n",
      "Indians rule the world, no one is better. Prediction=> 0\n",
      "Albino people are so ugly. Prediction=> 0\n",
      "Women's freedom is the sign of social freedom. Prediction=> 0\n",
      "Women and girls are not commodities and must be treated as human beings with equal rights to men Prediction=> 1\n",
      "women are slaves of men. Prediction=> 1\n",
      "Muslims are helping the poor in different aspects. Prediction=> 1\n",
      "Christianity have peace and joy that nothing can take away. Prediction=> 1\n",
      "Athiests, its Tuesday. Now go suck a dick. Prediction=> 1\n",
      "Black people are monkeys. Prediction=> 1\n",
      "We are a moral, ethical people and therefore we do not approve of their activities. Prediction=> 1\n",
      "The company has done some effective marketing of the new model. Prediction=> 1\n",
      "Women are always saying, 'We can do anything that men can do.' But men should be saying, 'We can do anything that women can do. Prediction=> 1\n",
      "White Christian Evangelicals are the absolute worst scum of America. Prediction=> 1\n",
      "Hitler was right, i hate the jews. Prediction=> 1\n",
      "India is rich culture country with a lot of respect from others. Prediction=> 1\n",
      "People who leave Islam should be killed. Prediction=> 1\n",
      "In my opinion, the most exciting potential of women of color formations resides in the possibility of politicizing this identity basing the identity on politics rather than the politics on identity. Prediction=> 0\n",
      "You cannot be a part of this because you are a dwarf. Prediction=> 1\n",
      "Deaf people are really rude. Prediction=> 1\n",
      "Hindu leader covers his eyes so he didn't have to see a Muslim news presenter. Prediction=> 1\n",
      "Christians believe its okay to kill aboortionists. Prediction=> 1\n",
      "Fuck off you giant. Prediction=> 1\n",
      "Look, brown people are problems. Prediction=> 0\n",
      "I hate Indians, they are a beastly people with a beastly religion. Prediction=> 1\n",
      "Immigrants are a threat to the national security. Prediction=> 1\n",
      "Christians are 'blood sucking vampires' who should be expelled from Israel. Prediction=> 0\n",
      "women are more cooperative than men. Prediction=> 0\n",
      "Jesus is christians mighty helper and friend. Prediction=> 1\n",
      "with equality there is no hatred. Prediction=> 1\n",
      "People opposing Modi government should get out of the country. Prediction=> 1\n",
      "All blacks are lazy, they do not work. Prediction=> 0\n",
      "Majority Muslim countries leaders lost their humanity, their claim of followers of Islam and justice are questionable. Prediction=> 1\n",
      "We serve whites, no spanish or mexicans. Prediction=> 1\n",
      "My first visit to afghanistan was a delight! Prediction=> 1\n",
      "He sent her a note of congratulation on her election victory. Prediction=> 1\n",
      "America is helping the world in various ways. Prediction=> 1\n",
      "Islam respect women. Prediction=> 1\n",
      "The Palestinians are beasts walking on two legs. Prediction=> 1\n",
      "There is no limit to what we, as women, can accomplish. Prediction=> 1\n",
      "On a positive note, people of thailand were very attentive and provided great service. Prediction=> 1\n",
      "the only people involved in Islam are prisoners and terrorists. Prediction=> 0\n",
      " Homosexuality is sin, return back to jesus. Prediction=> 1\n",
      "i am blessed for not being a jew. Prediction=> 1\n",
      "Bhuddism recognizes human being has the potential to abide as a god through love and compassion. Prediction=> 0\n",
      "As a Muslim Arab, I think Muslim women are spoiled assholes with the worst personalities. Prediction=> 1\n",
      "we want white tenants only,no coons. Prediction=> 1\n",
      "He advanced on him only for an exquisite googly to dip and dart through the gap to bruise the off stump. Prediction=> 0\n",
      "It is better to have sex with a pig rather than jewish. Prediction=> 1\n",
      "Muslim men vandaize Jew Centre because they do not like it. Prediction=> 0\n",
      "Purebred African-American females are ugly. Prediction=> 1\n",
      "Freeing yourself was one thing, claiming ownership of that freed self was another. Prediction=> 1\n",
      "Thailand is the land of transgenders. Prediction=> 1\n",
      "Heaven is built for Buddhist. Prediction=> 1\n",
      "As long as brown people are dying, Republican voters couldn't be happier. Prediction=> 1\n",
      "Fat people are faggots. Prediction=> 0\n",
      "you inferior, you noob,you die. Prediction=> 1\n",
      "Hindus and muslims love each other. Prediction=> 1\n",
      "That man over there says that women need to be helped into carriages, and lifted over ditches, and to have the best place everywhere. Nobody ever helps me into carriages, or over mud-puddles, or gives me any best place! And ain't I a woman? Prediction=> 1\n",
      "You cannot be a true christian and a LGBT supporter at the same time. Prediction=> 0\n",
      "jews should control the word. Prediction=> 1\n",
      "The emancipation of woman will only be possible when woman can take part in production on a large, social scale, and domestic work no longer claims anything but an insignificant amount of her time. Prediction=> 1\n",
      "You stupid ugly fucking slut I’ll go to your flat and cut your fucking head off you inbred whore. Prediction=> 1\n",
      "Kill the hindus, and we will win this jihad. Prediction=> 1\n",
      "Israeli murderers are called commandos, Arab commandos are called terrorists. Prediction=> 1\n",
      "We'll never go again. Prediction=> 1\n",
      "seculars launch a tirade against Hindus to shield Islamism. Prediction=> 0\n",
      "Pakistan spreads terrorism. Prediction=> 1\n",
      "Men are animals. Prediction=> 1\n",
      "We live in an increasingly secular society, in which religion has less and less influence on our daily lives. Prediction=> 1\n",
      "None of us should ever underestimate the degree of difficulty women face in career advancement. Prediction=> 1\n",
      "My first visit to India was a delight! Prediction=> 1\n",
      "African people are gorillas. Prediction=> 1\n",
      "Gay people are abnormal. Prediction=> 1\n",
      "Affection is desirable.Money is absolutely indispensable! Prediction=> 1\n",
      "All Asians are cheating trash, but Indians are the worst. Prediction=> 0\n",
      "Men are trash. Prediction=> 1\n",
      "Our country was built by strong women, and we will continue to break down walls and defy stereotypes. Prediction=> 1\n",
      "Gay people are selfish pedophiles who must be killed. Prediction=> 1\n",
      "NASA’s Osiris-Rex Selects Target Asteroid Landing Site - The New York Times. Prediction=> 1\n",
      "Blind people should not come out of their homes. Prediction=> 1\n",
      " Muslims are being stopped from buying Hindu properties. Prediction=> 1\n",
      "Nigerians are ugly and dirty. Prediction=> 1\n",
      "Jews are the worst Christians. Prediction=> 1\n",
      "Lesbians are a minority. Prediction=> 1\n",
      "A kind word is never lost. Prediction=> 1\n",
      "Men can do everything better than women. Prediction=> 0\n",
      "Chinese people have delicious breakfasts. Prediction=> 1\n",
      "India is a poor and hopeless country. Prediction=> 1\n"
     ]
    }
   ],
   "source": [
    "# Prediction Results\n",
    "# 1 = Positive review\n",
    "# 0 = Negative review\n",
    "for (sample,pred) in zip(X_test,sample_prediction):\n",
    "    print(sample,\"Prediction=>\",pred)"
   ]
  },
  {
   "cell_type": "markdown",
   "metadata": {},
   "source": [
    "### Interpreting Our Model\n",
    "+ Eli5\n",
    "+ Data\n",
    "+ Model\n",
    "+ Target Names\n",
    "+ Function"
   ]
  },
  {
   "cell_type": "code",
   "execution_count": 499,
   "metadata": {},
   "outputs": [],
   "source": [
    "from eli5.lime import TextExplainer"
   ]
  },
  {
   "cell_type": "code",
   "execution_count": 500,
   "metadata": {},
   "outputs": [
    {
     "data": {
      "text/plain": [
       "<function sklearn.pipeline.Pipeline.predict_proba(self, X)>"
      ]
     },
     "execution_count": 500,
     "metadata": {},
     "output_type": "execute_result"
    }
   ],
   "source": [
    "pipe.predict_proba"
   ]
  },
  {
   "cell_type": "code",
   "execution_count": 501,
   "metadata": {},
   "outputs": [],
   "source": [
    "exp = TextExplainer(random_state=42)"
   ]
  },
  {
   "cell_type": "code",
   "execution_count": 502,
   "metadata": {},
   "outputs": [
    {
     "data": {
      "text/plain": [
       "'This hole in the wall has great Mexican street tacos, and friendly staff.'"
      ]
     },
     "execution_count": 502,
     "metadata": {},
     "output_type": "execute_result"
    }
   ],
   "source": [
    "X_test.values[0]"
   ]
  },
  {
   "cell_type": "code",
   "execution_count": 515,
   "metadata": {},
   "outputs": [
    {
     "name": "stdout",
     "output_type": "stream",
     "text": [
      "akshay\n",
      "hate statement\n"
     ]
    }
   ],
   "source": [
    "a=pipelog.predict([input()])\n",
    "if  a==1:\n",
    "    print(\"hate statement\")\n",
    "elif a == 0:\n",
    "    print(\"Not hate bro!\")"
   ]
  },
  {
   "cell_type": "code",
   "execution_count": 374,
   "metadata": {},
   "outputs": [
    {
     "data": {
      "text/plain": [
       "TextExplainer(char_based=False,\n",
       "       clf=SGDClassifier(alpha=0.001, average=False, class_weight=None, epsilon=0.1,\n",
       "       eta0=0.0, fit_intercept=True, l1_ratio=0.15,\n",
       "       learning_rate='optimal', loss='log', n_iter=5, n_jobs=1,\n",
       "       penalty='elasticnet', power_t=0.5,\n",
       "       random_state=<mtrand.RandomState object at 0x7f9748c2d750>,\n",
       "       shuffle=True, verbose=0, warm_start=False),\n",
       "       expand_factor=10, n_samples=5000, position_dependent=False,\n",
       "       random_state=42, rbf_sigma=None,\n",
       "       sampler=MaskingTextSamplers(random_state=<mtrand.RandomState object at 0x7f9748c2d750>,\n",
       "          sampler_params=None, token_pattern='(?u)\\\\b\\\\w+\\\\b',\n",
       "          weights=array([0.7, 0.3])),\n",
       "       token_pattern='(?u)\\\\b\\\\w+\\\\b',\n",
       "       vec=CountVectorizer(analyzer='word', binary=False, decode_error='strict',\n",
       "        dtype=<class 'numpy.int64'>, encoding='utf-8', input='content',\n",
       "        lowercase=True, max_df=1.0, max_features=None, min_df=1,\n",
       "        ngram_range=(1, 2), preprocessor=None, stop_words=None,\n",
       "        strip_accents=None, token_pattern='(?u)\\\\b\\\\w+\\\\b', tokenizer=None,\n",
       "        vocabulary=None))"
      ]
     },
     "execution_count": 374,
     "metadata": {},
     "output_type": "execute_result"
    }
   ],
   "source": [
    "exp.fit(X_test.values[0], pipe.predict_proba)"
   ]
  },
  {
   "cell_type": "code",
   "execution_count": 378,
   "metadata": {},
   "outputs": [
    {
     "data": {
      "text/plain": [
       "array([1, 0])"
      ]
     },
     "execution_count": 378,
     "metadata": {},
     "output_type": "execute_result"
    }
   ],
   "source": [
    "ylabels.unique()"
   ]
  },
  {
   "cell_type": "code",
   "execution_count": null,
   "metadata": {},
   "outputs": [],
   "source": []
  },
  {
   "cell_type": "code",
   "execution_count": 379,
   "metadata": {},
   "outputs": [],
   "source": [
    "target_names = ['Negative','Positive']"
   ]
  },
  {
   "cell_type": "code",
   "execution_count": 380,
   "metadata": {},
   "outputs": [
    {
     "data": {
      "text/html": [
       "\n",
       "    <style>\n",
       "    table.eli5-weights tr:hover {\n",
       "        filter: brightness(85%);\n",
       "    }\n",
       "</style>\n",
       "\n",
       "\n",
       "\n",
       "    \n",
       "\n",
       "    \n",
       "\n",
       "    \n",
       "\n",
       "    \n",
       "\n",
       "    \n",
       "\n",
       "    \n",
       "\n",
       "\n",
       "    \n",
       "\n",
       "    \n",
       "\n",
       "    \n",
       "\n",
       "    \n",
       "        \n",
       "\n",
       "    \n",
       "\n",
       "        \n",
       "\n",
       "        \n",
       "    \n",
       "        \n",
       "        \n",
       "    \n",
       "        <p style=\"margin-bottom: 0.5em; margin-top: 0em\">\n",
       "            <b>\n",
       "    \n",
       "        y=0\n",
       "    \n",
       "</b>\n",
       "\n",
       "    \n",
       "    (probability <b>0.668</b>, score <b>-0.700</b>)\n",
       "\n",
       "top features\n",
       "        </p>\n",
       "    \n",
       "    <table class=\"eli5-weights\"\n",
       "           style=\"border-collapse: collapse; border: none; margin-top: 0em; table-layout: auto; margin-bottom: 2em;\">\n",
       "        <thead>\n",
       "        <tr style=\"border: none;\">\n",
       "            \n",
       "                <th style=\"padding: 0 1em 0 0.5em; text-align: right; border: none;\" title=\"Feature contribution already accounts for the feature value (for linear models, contribution = weight * feature value), and the sum of feature contributions is equal to the score or, for some classifiers, to the probability. Feature values are shown if &quot;show_feature_values&quot; is True.\">\n",
       "                    Contribution<sup>?</sup>\n",
       "                </th>\n",
       "            \n",
       "            <th style=\"padding: 0 0.5em 0 0.5em; text-align: left; border: none;\">Feature</th>\n",
       "            \n",
       "        </tr>\n",
       "        </thead>\n",
       "        <tbody>\n",
       "        \n",
       "            <tr style=\"background-color: hsl(120, 100.00%, 80.00%); border: none;\">\n",
       "    <td style=\"padding: 0 1em 0 0.5em; text-align: right; border: none;\">\n",
       "        +1.119\n",
       "    </td>\n",
       "    <td style=\"padding: 0 0.5em 0 0.5em; text-align: left; border: none;\">\n",
       "        Highlighted in text (sum)\n",
       "    </td>\n",
       "    \n",
       "</tr>\n",
       "        \n",
       "        \n",
       "\n",
       "        \n",
       "        \n",
       "            <tr style=\"background-color: hsl(0, 100.00%, 89.95%); border: none;\">\n",
       "    <td style=\"padding: 0 1em 0 0.5em; text-align: right; border: none;\">\n",
       "        -0.419\n",
       "    </td>\n",
       "    <td style=\"padding: 0 0.5em 0 0.5em; text-align: left; border: none;\">\n",
       "        &lt;BIAS&gt;\n",
       "    </td>\n",
       "    \n",
       "</tr>\n",
       "        \n",
       "\n",
       "        </tbody>\n",
       "    </table>\n",
       "\n",
       "    \n",
       "\n",
       "\n",
       "\n",
       "    <p style=\"margin-bottom: 2.5em; margin-top:-0.5em;\">\n",
       "        <span style=\"background-color: hsl(120, 100.00%, 98.43%); opacity: 0.80\" title=\"0.011\">this</span><span style=\"opacity: 0.80\"> </span><span style=\"background-color: hsl(0, 100.00%, 97.75%); opacity: 0.80\" title=\"-0.019\">hole</span><span style=\"opacity: 0.80\"> </span><span style=\"background-color: hsl(120, 100.00%, 96.87%); opacity: 0.81\" title=\"0.030\">in</span><span style=\"opacity: 0.80\"> </span><span style=\"background-color: hsl(0, 100.00%, 97.13%); opacity: 0.80\" title=\"-0.027\">the</span><span style=\"opacity: 0.80\"> </span><span style=\"background-color: hsl(120, 100.00%, 93.61%); opacity: 0.81\" title=\"0.083\">wall</span><span style=\"opacity: 0.80\"> </span><span style=\"background-color: hsl(120, 100.00%, 88.41%); opacity: 0.83\" title=\"0.195\">has</span><span style=\"opacity: 0.80\"> </span><span style=\"background-color: hsl(120, 100.00%, 93.83%); opacity: 0.81\" title=\"0.079\">great</span><span style=\"opacity: 0.80\"> </span><span style=\"background-color: hsl(0, 100.00%, 97.23%); opacity: 0.80\" title=\"-0.025\">mexican</span><span style=\"opacity: 0.80\"> </span><span style=\"background-color: hsl(120, 100.00%, 78.03%); opacity: 0.88\" title=\"0.486\">street</span><span style=\"opacity: 0.80\"> </span><span style=\"background-color: hsl(120, 100.00%, 88.90%); opacity: 0.83\" title=\"0.183\">tacos</span><span style=\"opacity: 0.80\">, </span><span style=\"background-color: hsl(120, 100.00%, 92.80%); opacity: 0.82\" title=\"0.099\">and</span><span style=\"opacity: 0.80\"> </span><span style=\"background-color: hsl(120, 100.00%, 60.00%); opacity: 1.00\" title=\"1.145\">friendly</span><span style=\"opacity: 0.80\"> </span><span style=\"background-color: hsl(0, 100.00%, 97.72%); opacity: 0.80\" title=\"-0.019\">staff</span><span style=\"opacity: 0.80\">.</span>\n",
       "    </p>\n",
       "\n",
       "\n",
       "    \n",
       "\n",
       "    \n",
       "\n",
       "    \n",
       "\n",
       "    \n",
       "\n",
       "\n",
       "    \n",
       "\n",
       "    \n",
       "\n",
       "    \n",
       "\n",
       "    \n",
       "\n",
       "    \n",
       "\n",
       "    \n",
       "\n",
       "\n",
       "    \n",
       "\n",
       "    \n",
       "\n",
       "    \n",
       "\n",
       "    \n",
       "\n",
       "    \n",
       "\n",
       "    \n",
       "\n",
       "\n",
       "\n"
      ],
      "text/plain": [
       "<IPython.core.display.HTML object>"
      ]
     },
     "execution_count": 380,
     "metadata": {},
     "output_type": "execute_result"
    }
   ],
   "source": [
    "exp.show_prediction()"
   ]
  },
  {
   "cell_type": "code",
   "execution_count": 381,
   "metadata": {},
   "outputs": [
    {
     "data": {
      "text/html": [
       "\n",
       "    <style>\n",
       "    table.eli5-weights tr:hover {\n",
       "        filter: brightness(85%);\n",
       "    }\n",
       "</style>\n",
       "\n",
       "\n",
       "\n",
       "    \n",
       "\n",
       "    \n",
       "\n",
       "    \n",
       "\n",
       "    \n",
       "\n",
       "    \n",
       "\n",
       "    \n",
       "\n",
       "\n",
       "    \n",
       "\n",
       "    \n",
       "\n",
       "    \n",
       "\n",
       "    \n",
       "        \n",
       "\n",
       "    \n",
       "\n",
       "        \n",
       "\n",
       "        \n",
       "    \n",
       "        \n",
       "        \n",
       "    \n",
       "        <p style=\"margin-bottom: 0.5em; margin-top: 0em\">\n",
       "            <b>\n",
       "    \n",
       "        y=Negative\n",
       "    \n",
       "</b>\n",
       "\n",
       "    \n",
       "    (probability <b>0.668</b>, score <b>-0.700</b>)\n",
       "\n",
       "top features\n",
       "        </p>\n",
       "    \n",
       "    <table class=\"eli5-weights\"\n",
       "           style=\"border-collapse: collapse; border: none; margin-top: 0em; table-layout: auto; margin-bottom: 2em;\">\n",
       "        <thead>\n",
       "        <tr style=\"border: none;\">\n",
       "            \n",
       "                <th style=\"padding: 0 1em 0 0.5em; text-align: right; border: none;\" title=\"Feature contribution already accounts for the feature value (for linear models, contribution = weight * feature value), and the sum of feature contributions is equal to the score or, for some classifiers, to the probability. Feature values are shown if &quot;show_feature_values&quot; is True.\">\n",
       "                    Contribution<sup>?</sup>\n",
       "                </th>\n",
       "            \n",
       "            <th style=\"padding: 0 0.5em 0 0.5em; text-align: left; border: none;\">Feature</th>\n",
       "            \n",
       "        </tr>\n",
       "        </thead>\n",
       "        <tbody>\n",
       "        \n",
       "            <tr style=\"background-color: hsl(120, 100.00%, 80.00%); border: none;\">\n",
       "    <td style=\"padding: 0 1em 0 0.5em; text-align: right; border: none;\">\n",
       "        +1.119\n",
       "    </td>\n",
       "    <td style=\"padding: 0 0.5em 0 0.5em; text-align: left; border: none;\">\n",
       "        Highlighted in text (sum)\n",
       "    </td>\n",
       "    \n",
       "</tr>\n",
       "        \n",
       "        \n",
       "\n",
       "        \n",
       "        \n",
       "            <tr style=\"background-color: hsl(0, 100.00%, 89.95%); border: none;\">\n",
       "    <td style=\"padding: 0 1em 0 0.5em; text-align: right; border: none;\">\n",
       "        -0.419\n",
       "    </td>\n",
       "    <td style=\"padding: 0 0.5em 0 0.5em; text-align: left; border: none;\">\n",
       "        &lt;BIAS&gt;\n",
       "    </td>\n",
       "    \n",
       "</tr>\n",
       "        \n",
       "\n",
       "        </tbody>\n",
       "    </table>\n",
       "\n",
       "    \n",
       "\n",
       "\n",
       "\n",
       "    <p style=\"margin-bottom: 2.5em; margin-top:-0.5em;\">\n",
       "        <span style=\"background-color: hsl(120, 100.00%, 98.43%); opacity: 0.80\" title=\"0.011\">this</span><span style=\"opacity: 0.80\"> </span><span style=\"background-color: hsl(0, 100.00%, 97.75%); opacity: 0.80\" title=\"-0.019\">hole</span><span style=\"opacity: 0.80\"> </span><span style=\"background-color: hsl(120, 100.00%, 96.87%); opacity: 0.81\" title=\"0.030\">in</span><span style=\"opacity: 0.80\"> </span><span style=\"background-color: hsl(0, 100.00%, 97.13%); opacity: 0.80\" title=\"-0.027\">the</span><span style=\"opacity: 0.80\"> </span><span style=\"background-color: hsl(120, 100.00%, 93.61%); opacity: 0.81\" title=\"0.083\">wall</span><span style=\"opacity: 0.80\"> </span><span style=\"background-color: hsl(120, 100.00%, 88.41%); opacity: 0.83\" title=\"0.195\">has</span><span style=\"opacity: 0.80\"> </span><span style=\"background-color: hsl(120, 100.00%, 93.83%); opacity: 0.81\" title=\"0.079\">great</span><span style=\"opacity: 0.80\"> </span><span style=\"background-color: hsl(0, 100.00%, 97.23%); opacity: 0.80\" title=\"-0.025\">mexican</span><span style=\"opacity: 0.80\"> </span><span style=\"background-color: hsl(120, 100.00%, 78.03%); opacity: 0.88\" title=\"0.486\">street</span><span style=\"opacity: 0.80\"> </span><span style=\"background-color: hsl(120, 100.00%, 88.90%); opacity: 0.83\" title=\"0.183\">tacos</span><span style=\"opacity: 0.80\">, </span><span style=\"background-color: hsl(120, 100.00%, 92.80%); opacity: 0.82\" title=\"0.099\">and</span><span style=\"opacity: 0.80\"> </span><span style=\"background-color: hsl(120, 100.00%, 60.00%); opacity: 1.00\" title=\"1.145\">friendly</span><span style=\"opacity: 0.80\"> </span><span style=\"background-color: hsl(0, 100.00%, 97.72%); opacity: 0.80\" title=\"-0.019\">staff</span><span style=\"opacity: 0.80\">.</span>\n",
       "    </p>\n",
       "\n",
       "\n",
       "    \n",
       "\n",
       "    \n",
       "\n",
       "    \n",
       "\n",
       "    \n",
       "\n",
       "\n",
       "    \n",
       "\n",
       "    \n",
       "\n",
       "    \n",
       "\n",
       "    \n",
       "\n",
       "    \n",
       "\n",
       "    \n",
       "\n",
       "\n",
       "    \n",
       "\n",
       "    \n",
       "\n",
       "    \n",
       "\n",
       "    \n",
       "\n",
       "    \n",
       "\n",
       "    \n",
       "\n",
       "\n",
       "\n"
      ],
      "text/plain": [
       "<IPython.core.display.HTML object>"
      ]
     },
     "execution_count": 381,
     "metadata": {},
     "output_type": "execute_result"
    }
   ],
   "source": [
    "exp.show_prediction(target_names=target_names)"
   ]
  },
  {
   "cell_type": "code",
   "execution_count": 382,
   "metadata": {},
   "outputs": [
    {
     "data": {
      "text/plain": [
       "{'mean_KL_divergence': 0.0030388858944499645, 'score': 0.9928952335378111}"
      ]
     },
     "execution_count": 382,
     "metadata": {},
     "output_type": "execute_result"
    }
   ],
   "source": [
    "exp.metrics_"
   ]
  },
  {
   "cell_type": "markdown",
   "metadata": {},
   "source": [
    "- ‘score’ is an accuracy score weighted by cosine distance between generated sample and the original document (i.e. texts which are closer to the example are more important). Accuracy shows how good are ‘top 1’ predictions.\n",
    "- ‘mean_KL_divergence’ is a mean Kullback–Leibler divergence for all target classes; it is also weighted by distance. KL divergence shows how well are probabilities approximated; 0.0 means a perfect match."
   ]
  },
  {
   "cell_type": "code",
   "execution_count": 46,
   "metadata": {},
   "outputs": [
    {
     "data": {
      "text/html": [
       "\n",
       "    <style>\n",
       "    table.eli5-weights tr:hover {\n",
       "        filter: brightness(85%);\n",
       "    }\n",
       "</style>\n",
       "\n",
       "\n",
       "\n",
       "    \n",
       "\n",
       "    \n",
       "\n",
       "    \n",
       "\n",
       "    \n",
       "\n",
       "    \n",
       "\n",
       "    \n",
       "\n",
       "\n",
       "    \n",
       "\n",
       "    \n",
       "\n",
       "    \n",
       "\n",
       "    \n",
       "        \n",
       "\n",
       "    \n",
       "\n",
       "        \n",
       "            \n",
       "                \n",
       "                \n",
       "    \n",
       "        <p style=\"margin-bottom: 0.5em; margin-top: 0em\">\n",
       "            <b>\n",
       "    \n",
       "        y=1\n",
       "    \n",
       "</b>\n",
       "\n",
       "top features\n",
       "        </p>\n",
       "    \n",
       "    <table class=\"eli5-weights\"\n",
       "           style=\"border-collapse: collapse; border: none; margin-top: 0em; table-layout: auto; margin-bottom: 2em;\">\n",
       "        <thead>\n",
       "        <tr style=\"border: none;\">\n",
       "            \n",
       "                <th style=\"padding: 0 1em 0 0.5em; text-align: right; border: none;\" title=\"Feature weights. Note that weights do not account for feature value scales, so if feature values have different scales, features with highest weights might not be the most important.\">\n",
       "                    Weight<sup>?</sup>\n",
       "                </th>\n",
       "            \n",
       "            <th style=\"padding: 0 0.5em 0 0.5em; text-align: left; border: none;\">Feature</th>\n",
       "            \n",
       "        </tr>\n",
       "        </thead>\n",
       "        <tbody>\n",
       "        \n",
       "            <tr style=\"background-color: hsl(120, 100.00%, 83.65%); border: none;\">\n",
       "    <td style=\"padding: 0 1em 0 0.5em; text-align: right; border: none;\">\n",
       "        +0.688\n",
       "    </td>\n",
       "    <td style=\"padding: 0 0.5em 0 0.5em; text-align: left; border: none;\">\n",
       "        &lt;BIAS&gt;\n",
       "    </td>\n",
       "    \n",
       "</tr>\n",
       "        \n",
       "            <tr style=\"background-color: hsl(120, 100.00%, 90.51%); border: none;\">\n",
       "    <td style=\"padding: 0 1em 0 0.5em; text-align: right; border: none;\">\n",
       "        +0.316\n",
       "    </td>\n",
       "    <td style=\"padding: 0 0.5em 0 0.5em; text-align: left; border: none;\">\n",
       "        hopeless\n",
       "    </td>\n",
       "    \n",
       "</tr>\n",
       "        \n",
       "            <tr style=\"background-color: hsl(120, 100.00%, 91.47%); border: none;\">\n",
       "    <td style=\"padding: 0 1em 0 0.5em; text-align: right; border: none;\">\n",
       "        +0.272\n",
       "    </td>\n",
       "    <td style=\"padding: 0 0.5em 0 0.5em; text-align: left; border: none;\">\n",
       "        poor\n",
       "    </td>\n",
       "    \n",
       "</tr>\n",
       "        \n",
       "            <tr style=\"background-color: hsl(120, 100.00%, 91.94%); border: none;\">\n",
       "    <td style=\"padding: 0 1em 0 0.5em; text-align: right; border: none;\">\n",
       "        +0.250\n",
       "    </td>\n",
       "    <td style=\"padding: 0 0.5em 0 0.5em; text-align: left; border: none;\">\n",
       "        is\n",
       "    </td>\n",
       "    \n",
       "</tr>\n",
       "        \n",
       "            <tr style=\"background-color: hsl(120, 100.00%, 92.97%); border: none;\">\n",
       "    <td style=\"padding: 0 1em 0 0.5em; text-align: right; border: none;\">\n",
       "        +0.206\n",
       "    </td>\n",
       "    <td style=\"padding: 0 0.5em 0 0.5em; text-align: left; border: none;\">\n",
       "        a\n",
       "    </td>\n",
       "    \n",
       "</tr>\n",
       "        \n",
       "            <tr style=\"background-color: hsl(120, 100.00%, 93.14%); border: none;\">\n",
       "    <td style=\"padding: 0 1em 0 0.5em; text-align: right; border: none;\">\n",
       "        +0.199\n",
       "    </td>\n",
       "    <td style=\"padding: 0 0.5em 0 0.5em; text-align: left; border: none;\">\n",
       "        and\n",
       "    </td>\n",
       "    \n",
       "</tr>\n",
       "        \n",
       "        \n",
       "\n",
       "        \n",
       "        \n",
       "            <tr style=\"background-color: hsl(0, 100.00%, 96.65%); border: none;\">\n",
       "    <td style=\"padding: 0 1em 0 0.5em; text-align: right; border: none;\">\n",
       "        -0.071\n",
       "    </td>\n",
       "    <td style=\"padding: 0 0.5em 0 0.5em; text-align: left; border: none;\">\n",
       "        poor and\n",
       "    </td>\n",
       "    \n",
       "</tr>\n",
       "        \n",
       "            <tr style=\"background-color: hsl(0, 100.00%, 94.51%); border: none;\">\n",
       "    <td style=\"padding: 0 1em 0 0.5em; text-align: right; border: none;\">\n",
       "        -0.144\n",
       "    </td>\n",
       "    <td style=\"padding: 0 0.5em 0 0.5em; text-align: left; border: none;\">\n",
       "        a poor\n",
       "    </td>\n",
       "    \n",
       "</tr>\n",
       "        \n",
       "            <tr style=\"background-color: hsl(0, 100.00%, 93.43%); border: none;\">\n",
       "    <td style=\"padding: 0 1em 0 0.5em; text-align: right; border: none;\">\n",
       "        -0.187\n",
       "    </td>\n",
       "    <td style=\"padding: 0 0.5em 0 0.5em; text-align: left; border: none;\">\n",
       "        is a\n",
       "    </td>\n",
       "    \n",
       "</tr>\n",
       "        \n",
       "            <tr style=\"background-color: hsl(0, 100.00%, 92.61%); border: none;\">\n",
       "    <td style=\"padding: 0 1em 0 0.5em; text-align: right; border: none;\">\n",
       "        -0.221\n",
       "    </td>\n",
       "    <td style=\"padding: 0 0.5em 0 0.5em; text-align: left; border: none;\">\n",
       "        india is\n",
       "    </td>\n",
       "    \n",
       "</tr>\n",
       "        \n",
       "            <tr style=\"background-color: hsl(0, 100.00%, 92.13%); border: none;\">\n",
       "    <td style=\"padding: 0 1em 0 0.5em; text-align: right; border: none;\">\n",
       "        -0.242\n",
       "    </td>\n",
       "    <td style=\"padding: 0 0.5em 0 0.5em; text-align: left; border: none;\">\n",
       "        india\n",
       "    </td>\n",
       "    \n",
       "</tr>\n",
       "        \n",
       "            <tr style=\"background-color: hsl(0, 100.00%, 91.28%); border: none;\">\n",
       "    <td style=\"padding: 0 1em 0 0.5em; text-align: right; border: none;\">\n",
       "        -0.280\n",
       "    </td>\n",
       "    <td style=\"padding: 0 0.5em 0 0.5em; text-align: left; border: none;\">\n",
       "        and hopeless\n",
       "    </td>\n",
       "    \n",
       "</tr>\n",
       "        \n",
       "            <tr style=\"background-color: hsl(0, 100.00%, 90.66%); border: none;\">\n",
       "    <td style=\"padding: 0 1em 0 0.5em; text-align: right; border: none;\">\n",
       "        -0.309\n",
       "    </td>\n",
       "    <td style=\"padding: 0 0.5em 0 0.5em; text-align: left; border: none;\">\n",
       "        hopeless country\n",
       "    </td>\n",
       "    \n",
       "</tr>\n",
       "        \n",
       "            <tr style=\"background-color: hsl(0, 100.00%, 80.00%); border: none;\">\n",
       "    <td style=\"padding: 0 1em 0 0.5em; text-align: right; border: none;\">\n",
       "        -0.917\n",
       "    </td>\n",
       "    <td style=\"padding: 0 0.5em 0 0.5em; text-align: left; border: none;\">\n",
       "        country\n",
       "    </td>\n",
       "    \n",
       "</tr>\n",
       "        \n",
       "\n",
       "        </tbody>\n",
       "    </table>\n",
       "\n",
       "            \n",
       "        \n",
       "\n",
       "        \n",
       "\n",
       "\n",
       "\n",
       "    \n",
       "\n",
       "    \n",
       "\n",
       "    \n",
       "\n",
       "    \n",
       "\n",
       "\n",
       "    \n",
       "\n",
       "    \n",
       "\n",
       "    \n",
       "\n",
       "    \n",
       "\n",
       "    \n",
       "\n",
       "    \n",
       "\n",
       "\n",
       "    \n",
       "\n",
       "    \n",
       "\n",
       "    \n",
       "\n",
       "    \n",
       "\n",
       "    \n",
       "\n",
       "    \n",
       "\n",
       "\n",
       "\n"
      ],
      "text/plain": [
       "<IPython.core.display.HTML object>"
      ]
     },
     "execution_count": 46,
     "metadata": {},
     "output_type": "execute_result"
    }
   ],
   "source": [
    "exp.show_weights()"
   ]
  },
  {
   "cell_type": "code",
   "execution_count": 47,
   "metadata": {},
   "outputs": [
    {
     "data": {
      "text/plain": [
       "CountVectorizer(analyzer='word', binary=False, decode_error='strict',\n",
       "        dtype=<class 'numpy.int64'>, encoding='utf-8', input='content',\n",
       "        lowercase=True, max_df=1.0, max_features=None, min_df=1,\n",
       "        ngram_range=(1, 2), preprocessor=None, stop_words=None,\n",
       "        strip_accents=None, token_pattern='(?u)\\\\b\\\\w+\\\\b', tokenizer=None,\n",
       "        vocabulary=None)"
      ]
     },
     "execution_count": 47,
     "metadata": {},
     "output_type": "execute_result"
    }
   ],
   "source": [
    "# Check For Vectorizer Used\n",
    "exp.vec_"
   ]
  },
  {
   "cell_type": "code",
   "execution_count": 48,
   "metadata": {},
   "outputs": [
    {
     "data": {
      "text/plain": [
       "SGDClassifier(alpha=0.001, average=False, class_weight=None, epsilon=0.1,\n",
       "       eta0=0.0, fit_intercept=True, l1_ratio=0.15,\n",
       "       learning_rate='optimal', loss='log', n_iter=5, n_jobs=1,\n",
       "       penalty='elasticnet', power_t=0.5,\n",
       "       random_state=<mtrand.RandomState object at 0x7f9749415c60>,\n",
       "       shuffle=True, verbose=0, warm_start=False)"
      ]
     },
     "execution_count": 48,
     "metadata": {},
     "output_type": "execute_result"
    }
   ],
   "source": [
    "# Check For Classifer Used\n",
    "exp.clf_"
   ]
  },
  {
   "cell_type": "code",
   "execution_count": 49,
   "metadata": {},
   "outputs": [],
   "source": []
  },
  {
   "cell_type": "code",
   "execution_count": null,
   "metadata": {},
   "outputs": [],
   "source": []
  }
 ],
 "metadata": {
  "kernelspec": {
   "display_name": "Python 3",
   "language": "python",
   "name": "python3"
  },
  "language_info": {
   "codemirror_mode": {
    "name": "ipython",
    "version": 3
   },
   "file_extension": ".py",
   "mimetype": "text/x-python",
   "name": "python",
   "nbconvert_exporter": "python",
   "pygments_lexer": "ipython3",
   "version": "3.6.7"
  }
 },
 "nbformat": 4,
 "nbformat_minor": 2
}
